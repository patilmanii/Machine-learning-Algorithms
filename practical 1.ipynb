{
 "cells": [
  {
   "cell_type": "code",
   "execution_count": 38,
   "id": "7ee5d958",
   "metadata": {},
   "outputs": [],
   "source": [
    "import pandas as pd\n",
    "import numpy as np"
   ]
  },
  {
   "cell_type": "code",
   "execution_count": 39,
   "id": "461869ec",
   "metadata": {},
   "outputs": [
    {
     "name": "stdout",
     "output_type": "stream",
     "text": [
      "     Sky Air Temp Humidity    Wind Water forecast EnjoySport\n",
      "0  Sunny     Warm   Normal  Strong  Warm     Same        Yes\n",
      "1  Sunny     Warm     High  Strong  Warm     Same        Yes\n",
      "2  Rainy     Cold     High  Strong  Warm   Change         No\n",
      "3  Sunny     Waem     High  Strong  Cool   Change        Yes n\n"
     ]
    }
   ],
   "source": [
    "#to read the data in the csv file\n",
    "data = pd.read_csv(\"data.csv\")\n",
    "print(data,\"n\")"
   ]
  },
  {
   "cell_type": "code",
   "execution_count": 40,
   "id": "50ed68ae",
   "metadata": {},
   "outputs": [
    {
     "name": "stdout",
     "output_type": "stream",
     "text": [
      "n the attributes are:  [['Sunny' 'Warm' 'Normal' 'Strong' 'Warm' 'Same']\n",
      " ['Sunny' 'Warm' 'High' 'Strong' 'Warm' 'Same']\n",
      " ['Rainy' 'Cold' 'High' 'Strong' 'Warm' 'Change']\n",
      " ['Sunny' 'Waem' 'High' 'Strong' 'Cool' 'Change']]\n"
     ]
    }
   ],
   "source": [
    "#making as array of all the attributes\n",
    "d = np.array(data)[:,:-1]\n",
    "print(\"n the attributes are: \",d)"
   ]
  },
  {
   "cell_type": "code",
   "execution_count": 41,
   "id": "e24ea9ff",
   "metadata": {},
   "outputs": [
    {
     "name": "stdout",
     "output_type": "stream",
     "text": [
      "n the target is:  ['Yes' 'Yes' 'No' 'Yes']\n"
     ]
    }
   ],
   "source": [
    "target = np.array(data)[:,-1]\n",
    "print(\"n the target is: \",target)"
   ]
  },
  {
   "cell_type": "code",
   "execution_count": 42,
   "id": "bc24d95f",
   "metadata": {},
   "outputs": [],
   "source": [
    "def train(c,t):\n",
    "    for i,val in enumerate(t):\n",
    "        if val == \"Yes\":\n",
    "            specific_hypothesis = c[i].copy()\n",
    "            break\n",
    "            \n",
    "        for i, val in enumerate(c):\n",
    "            if t[i] == \"Yes\":\n",
    "                for x in range(len(specific_hypothesis)):\n",
    "                    if val[x] != specific_hypothesis[x]:\n",
    "                        specific_hypothesis[x] = '?'\n",
    "                    else:\n",
    "                        pass\n",
    "    return specific_hypothesis"
   ]
  },
  {
   "cell_type": "code",
   "execution_count": 43,
   "id": "4ebaeebc",
   "metadata": {
    "scrolled": true
   },
   "outputs": [
    {
     "name": "stdout",
     "output_type": "stream",
     "text": [
      "n the final hypothesis is: ['Sunny' 'Warm' 'Normal' 'Strong' 'Warm' 'Same']\n"
     ]
    }
   ],
   "source": [
    "print(\"n the final hypothesis is:\",train(d,target))"
   ]
  },
  {
   "cell_type": "code",
   "execution_count": null,
   "id": "e81c0986",
   "metadata": {},
   "outputs": [],
   "source": []
  }
 ],
 "metadata": {
  "kernelspec": {
   "display_name": "Python 3 (ipykernel)",
   "language": "python",
   "name": "python3"
  },
  "language_info": {
   "codemirror_mode": {
    "name": "ipython",
    "version": 3
   },
   "file_extension": ".py",
   "mimetype": "text/x-python",
   "name": "python",
   "nbconvert_exporter": "python",
   "pygments_lexer": "ipython3",
   "version": "3.11.5"
  }
 },
 "nbformat": 4,
 "nbformat_minor": 5
}
